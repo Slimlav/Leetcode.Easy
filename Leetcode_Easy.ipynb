{
  "nbformat": 4,
  "nbformat_minor": 0,
  "metadata": {
    "colab": {
      "provenance": [],
      "collapsed_sections": [],
      "authorship_tag": "ABX9TyO+dNhhyXJMmUxDgEmITbfC",
      "include_colab_link": true
    },
    "kernelspec": {
      "name": "python3",
      "display_name": "Python 3"
    },
    "language_info": {
      "name": "python"
    }
  },
  "cells": [
    {
      "cell_type": "markdown",
      "metadata": {
        "id": "view-in-github",
        "colab_type": "text"
      },
      "source": [
        "<a href=\"https://colab.research.google.com/github/Slimlav/Leetcode.Easy/blob/main/Leetcode_Easy.ipynb\" target=\"_parent\"><img src=\"https://colab.research.google.com/assets/colab-badge.svg\" alt=\"Open In Colab\"/></a>"
      ]
    },
    {
      "cell_type": "code",
      "source": [
        "import pandas as pd\n",
        "import numpy as np\n",
        "from typing import List"
      ],
      "metadata": {
        "id": "Gxdh-xL606lY"
      },
      "execution_count": 1,
      "outputs": []
    },
    {
      "cell_type": "markdown",
      "source": [
        "# **976. Largest Perimeter Triangle**\n",
        "**Дан целочисленный массив nums, вернуть наибольший периметр треугольника с ненулевой площадью, образованный из трех таких длин. Если невозможно сформировать какой-либо треугольник ненулевой площади, вернуть 0.**"
      ],
      "metadata": {
        "id": "fF3qtlvO0Fng"
      }
    },
    {
      "cell_type": "code",
      "execution_count": null,
      "metadata": {
        "id": "DlWUSM2oy1Mk"
      },
      "outputs": [],
      "source": [
        "class Solution:\n",
        "    def largestPerimeter(self, nums: List[int]) -> int:\n",
        "        nums.sort(reverse = True)# Отсортируем в порядке убывания\n",
        "        for i in range(3,len(nums)+1): # Пробегаемся от 4 числа до границы(вкл) nums\n",
        "            if(nums[i-3] < nums[i-2] + nums[i-1]):\n",
        "                return sum(nums[i-3:i])\n",
        "        return 0"
      ]
    },
    {
      "cell_type": "code",
      "source": [
        "#Пример\n",
        "nums = [3,5,7,4,6,8]\n",
        "\n",
        "nums.sort(reverse = True)\n",
        "for i in range(3,len(nums)+1):\n",
        "    if(nums[i-3] < nums[i-2] + nums[i-1]):\n",
        "        print(sum(nums[i-3:i]))\n",
        "print(0)"
      ],
      "metadata": {
        "colab": {
          "base_uri": "https://localhost:8080/"
        },
        "id": "yr0l5fXbWqyQ",
        "outputId": "06a29e66-5403-4619-cf1e-b6f832f7308b"
      },
      "execution_count": null,
      "outputs": [
        {
          "output_type": "stream",
          "name": "stdout",
          "text": [
            "21\n",
            "18\n",
            "15\n",
            "12\n",
            "0\n"
          ]
        }
      ]
    },
    {
      "cell_type": "markdown",
      "source": [
        "# **1. Two Sum**\n",
        "\n",
        "**Учитывая массив целых чисел nums и целочисленную target, вернуть индексы двух чисел так, чтобы они складывались в target.\n",
        "Вы можете предположить, что каждый вход будет иметь ровно одно решение, и вы не можете использовать один и тот же элемент дважды.\n",
        "Вы можете вернуть ответ в любом порядке.**\n"
      ],
      "metadata": {
        "id": "Banhy5VgAjpq"
      }
    },
    {
      "cell_type": "code",
      "source": [
        "nums = [3,5,7,9]\n",
        "target = 8\n",
        "\n",
        "class Solution:\n",
        "    def twoSum(self, nums: List[int], target: int) -> List[int]:\n",
        "        \n",
        "     HM={}\n",
        "   \n",
        "    #Получение ключа и значения из чисел с помощью перечисления\n",
        "     for i, n in enumerate(nums):\n",
        "         dif = target-n #получение разницы между целевым значением и n\n",
        "        # Проверьте, есть ли разница в Hashmap или нет\n",
        "         if dif in HM:\n",
        "            return [HM[dif], i] #если присутствует возвращаемый индекс обоих значений\n",
        "         HM[n] = i #если не обновить хэш-карту\n",
        "     return"
      ],
      "metadata": {
        "id": "cnmRzCf-A03i"
      },
      "execution_count": null,
      "outputs": []
    },
    {
      "cell_type": "code",
      "source": [
        "#Пример\n",
        "nums = [3,5,7,9]\n",
        "target = 8\n",
        "\n",
        "HM={}\n",
        "for i, n in enumerate(nums):\n",
        "    dif = target-n\n",
        "    if dif in HM:\n",
        "      print([HM[dif], i])\n",
        "    HM[n] = i\n",
        "print()\n"
      ],
      "metadata": {
        "colab": {
          "base_uri": "https://localhost:8080/"
        },
        "id": "KQnOgRwBVPqb",
        "outputId": "574ed63b-fd50-4bc5-8008-838388a4a4c1"
      },
      "execution_count": null,
      "outputs": [
        {
          "output_type": "stream",
          "name": "stdout",
          "text": [
            "[0, 1]\n",
            "\n"
          ]
        }
      ]
    },
    {
      "cell_type": "markdown",
      "source": [
        "#9. Palindrome Number\n",
        "\n",
        "**Учитывая целое число x, вернуть true, если x является целым палиндромом.\n",
        "Целое число является палиндромом, если оно читается так же, как в прямом, так и в обратном порядке.**\n",
        "- Например, 121 — это палиндром, а 123 — нет."
      ],
      "metadata": {
        "id": "uXjdyfNHLaMY"
      }
    },
    {
      "cell_type": "code",
      "source": [
        "def isPalindrome(self, x: int) -> bool:\n",
        "\tif x < 0: # отфильтровываем цифры выше 0\n",
        "\t\treturn False\n",
        "\t\n",
        "\treturn str(x) == str(x)[::-1] # Разворачиваем строку"
      ],
      "metadata": {
        "id": "aUcd0Oi6Ll60"
      },
      "execution_count": null,
      "outputs": []
    },
    {
      "cell_type": "code",
      "source": [
        "#Пример\n",
        "x = 12321\n",
        "\n",
        "if x < 0:\n",
        "\tprint(False)\n",
        "\t\n",
        "print(str(x) == str(x)[::-1])"
      ],
      "metadata": {
        "colab": {
          "base_uri": "https://localhost:8080/"
        },
        "id": "9TQTQAqaVChM",
        "outputId": "734ea157-40ef-402a-867c-614ef4ed26a9"
      },
      "execution_count": null,
      "outputs": [
        {
          "output_type": "stream",
          "name": "stdout",
          "text": [
            "True\n"
          ]
        }
      ]
    },
    {
      "cell_type": "markdown",
      "source": [
        "# 13. Roman to Integer\n",
        "**Римские цифры представлены семью различными символами: I, V, X, L, C, D и M.**\n",
        "Например, 2 записывается как II римскими цифрами, просто две сложенные вместе. 12 записывается как XII, то есть просто X + II. Число 27 записывается как XXVII, то есть XX + V + II.\n",
        "\n",
        "Римские цифры обычно пишутся слева направо от большего к меньшему. Однако цифра четыре не IIII. Вместо этого цифра четыре пишется как IV. Так как единица предшествует пятерке, мы вычитаем ее и получаем четыре. Тот же принцип применим к числу девять, которое пишется как IX. Есть шесть случаев, когда используется вычитание:\n",
        "\n",
        "I можно поставить перед V (5) и X (10), чтобы получились 4 и 9.\n",
        "X можно поставить перед L (50) и C (100), чтобы получилось 40 и 90.\n",
        "C можно поставить перед D (500) и M (1000), чтобы получились 400 и 900.\n",
        "Дана римская цифра, преобразовать ее в целое число.\n",
        "\n",
        "\n",
        "\n"
      ],
      "metadata": {
        "id": "8qXQd38UROtQ"
      }
    },
    {
      "cell_type": "code",
      "source": [
        "class Solution:\n",
        "    def romanToInt(self, s: str) -> int:\n",
        "        translations = {\n",
        "            'I': 1,\n",
        "            'V': 5,\n",
        "            'X': 10,\n",
        "            'L': 50,\n",
        "            'C': 100,\n",
        "            'D': 500,\n",
        "            'M': 1000\n",
        "        } # создаем словарь с обозначениями\n",
        "        number = 0\n",
        "        # корректируем исключения в правильный вид\n",
        "        s = s.replace('IV', 'IIII').replace('IX', 'VIIII')\n",
        "        s = s.replace('XL', 'XXXX').replace('XC', 'LXXXX')\n",
        "        s = s.replace('CD', 'CCCC').replace('CM', 'DCCCC')\n",
        "        for char in s: #пробегаемся по словарю и складываем цифры\n",
        "            number += translations[char]\n",
        "        return number"
      ],
      "metadata": {
        "id": "e5JMjW5zRx23"
      },
      "execution_count": null,
      "outputs": []
    },
    {
      "cell_type": "code",
      "source": [
        "#Пример\n",
        "s = 'IMD'\n",
        "\n",
        "translations = {\n",
        "            'I': 1,\n",
        "            'V': 5,\n",
        "            'X': 10,\n",
        "            'L': 50,\n",
        "            'C': 100,\n",
        "            'D': 500,\n",
        "            'M': 1000\n",
        "        }\n",
        "number = 0\n",
        "s = s.replace('IV', 'IIII').replace('IX', 'VIIII')\n",
        "s = s.replace('XL', 'XXXX').replace('XC', 'LXXXX')\n",
        "s = s.replace('CD', 'CCCC').replace('CM', 'DCCCC')\n",
        "for char in s:\n",
        "      number += translations[char]\n",
        "print(number)"
      ],
      "metadata": {
        "colab": {
          "base_uri": "https://localhost:8080/"
        },
        "id": "nerS1OYzTwGb",
        "outputId": "10f8f6a4-cae2-4cc9-bab6-9ec165e27f60"
      },
      "execution_count": null,
      "outputs": [
        {
          "output_type": "stream",
          "name": "stdout",
          "text": [
            "1501\n"
          ]
        }
      ]
    },
    {
      "cell_type": "markdown",
      "source": [
        "#14. Longest Common Prefix\n",
        "**Напишите функцию, которая находит самую длинную строку общего префикса среди массива строк.\n",
        "Если общего префикса нет, вернуть пустую строку \"\".**\n"
      ],
      "metadata": {
        "id": "dEd4XStGxcyF"
      }
    },
    {
      "cell_type": "code",
      "source": [
        "class Solution:\n",
        "    def longestCommonPrefix(self, S: List[str]) -> str:\n",
        "        if not S: \n",
        "            return ''\n",
        "        m, M, i = min(S), max(S), 0\n",
        "        for i in range(min(len(m),len(M))):\n",
        "            if m[i] != M[i]: break\n",
        "        else: i += 1\n",
        "        return m[:i]"
      ],
      "metadata": {
        "id": "OZOfdGw1ypm3"
      },
      "execution_count": 2,
      "outputs": []
    },
    {
      "cell_type": "code",
      "source": [
        "strs = ['Airplane','Aircraft','Airily','Airy']\n",
        "#strs = ['qwrplane','qdrcraft','qgrily','qjiry']\n",
        "\n",
        "if not strs:\n",
        "     print('') # если в списке нет общего префикса выводим ''\n",
        "m, M, i = min(strs), max(strs), 0 # находим минимум и максимум по алфавитному порядку\n",
        "for i in range(min(len(m),len(M))): # пробегаем циклом range(0, 4), по самому короткому слову и сравниваем индексы этих слов(букв поочередно)\n",
        "    if m[i] != M[i]: break # если равных нет, то цикл прекращается\n",
        "else: i += 1 # если есть одинаковые то продолжается\n",
        "print(m[:i]) # выводим все равные буквы в цикле"
      ],
      "metadata": {
        "colab": {
          "base_uri": "https://localhost:8080/"
        },
        "id": "RILR5oiJyExH",
        "outputId": "0352ecd4-45b9-43aa-b8d7-808d9021fa16"
      },
      "execution_count": 18,
      "outputs": [
        {
          "output_type": "stream",
          "name": "stdout",
          "text": [
            "Air\n"
          ]
        }
      ]
    },
    {
      "cell_type": "markdown",
      "source": [
        "#20. Valid Parentheses\n",
        "\n",
        "**Учитывая строку s, содержащую только символы '(', ')', '{', '}', '[' and ']', определите, допустима ли входная строка.**\n",
        "Входная строка действительна, если:\n",
        "- Открытые скобки должны быть закрыты однотипными скобками.\n",
        "- Открытые скобки должны быть закрыты в правильном порядке.\n",
        "- Каждой закрывающей скобке соответствует открытая скобка того же типа.\n",
        "\n"
      ],
      "metadata": {
        "id": "3cl6nKaG51Yi"
      }
    },
    {
      "cell_type": "code",
      "source": [
        "class Solution:\n",
        "    def isValid(self, s: str) -> bool:\n",
        "        m = {'(' : ')', '[': ']', '{': '}'}\n",
        "        stack = []\n",
        "        \n",
        "        for i in s:\n",
        "            if i in m:\n",
        "                stack.append(m[i])\n",
        "            elif len(stack) > 0 and i == stack[-1]:\n",
        "                stack.pop()\n",
        "            else:\n",
        "                return False\n",
        "        return len(stack) == 0"
      ],
      "metadata": {
        "id": "hRePKKQABiEK"
      },
      "execution_count": 30,
      "outputs": []
    },
    {
      "cell_type": "code",
      "source": [
        "#Пример\n",
        "s = '[}]'\n",
        "\n",
        "m = {'(' : ')', '[': ']', '{': '}'} #Добавление ожидаемых значений в стек\n",
        "stack = []\n",
        "        #Итерация по входному массиву\n",
        "for i in s:\n",
        "            # проверка, если значение в m\n",
        "    if i in m:\n",
        "                # добавить в стек ожидаемые значения\n",
        "                stack.append(m[i])\n",
        "            #Если нет, то проверяем, не пуст ли стек и совпадает ли значение с последним добавленным в стек значением\n",
        "    elif len(stack) > 0 and i == stack[-1]:\n",
        "                # если правда, то выталкиваем (удаляем)\n",
        "                stack.pop()\n",
        "    else:\n",
        "                # если ни один из случаев не совпадает, то мы просто возвращаем false\n",
        "          print(False)\n",
        "        # если все данные в стеке извлечены, то мы просто сравниваем длину стека с 0 (элемента не должно остаться)\n",
        "print(len(stack) == 0)"
      ],
      "metadata": {
        "colab": {
          "base_uri": "https://localhost:8080/"
        },
        "id": "UCvoeICV_LQm",
        "outputId": "c71ad065-f09a-4248-d55e-2b3abf5ba804"
      },
      "execution_count": 12,
      "outputs": [
        {
          "output_type": "stream",
          "name": "stdout",
          "text": [
            "False\n",
            "True\n"
          ]
        }
      ]
    }
  ]
}